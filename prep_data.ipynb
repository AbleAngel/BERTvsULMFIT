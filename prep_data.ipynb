{
 "cells": [
  {
   "cell_type": "code",
   "execution_count": 1,
   "metadata": {},
   "outputs": [],
   "source": [
    "from utils import *\n",
    "from os.path import expanduser"
   ]
  },
  {
   "cell_type": "code",
   "execution_count": 2,
   "metadata": {},
   "outputs": [],
   "source": [
    "dataset = 'imdb'\n",
    "deep_cleaning = False # basic cleaning\n",
    "HOME = expanduser(\"~\")"
   ]
  },
  {
   "cell_type": "code",
   "execution_count": 3,
   "metadata": {},
   "outputs": [],
   "source": [
    "if dataset == '20ng':\n",
    "    parser = download_20ng()\n",
    "elif dataset == 'r8':\n",
    "    parser = parse_reuters('{}/data/r8/r8-train-all-terms.txt'.format(HOME),\n",
    "                         '{}/data/r8/r8-test-all-terms.txt'.format(HOME))\n",
    "elif dataset == 'r52':\n",
    "    parser = parse_reuters('{}/data/r52/r52-train-all-terms.txt'.format(HOME),\n",
    "                           '{}/data/r52/r52-test-all-terms.txt'.format(HOME))\n",
    "elif dataset == 'ohsumed_all':\n",
    "    parser = parse_ohsumed_all('{}/data/ohsumed/ohsumed-all'.format(HOME))\n",
    "elif dataset == 'ohsumed_first':\n",
    "    parser = parse_ohsumed_first('{}/data/ohsumed/ohsumed-first-20000-docs/training'.format(HOME),\n",
    "                          '{}/data/ohsumed/ohsumed-first-20000-docs/test'.format(HOME))\n",
    "elif dataset == 'imdb':\n",
    "    parser = parse_imdb('{}/data/imdb/v1/aclImdb/train'.format(HOME), \n",
    "                        '{}/data/imdb/v1/aclImdb/test'.format(HOME))"
   ]
  },
  {
   "cell_type": "code",
   "execution_count": 4,
   "metadata": {},
   "outputs": [],
   "source": [
    "data_dir = \"{}/working_dir/classification/files/{}/\".format(HOME, dataset)\n",
    "if not os.path.exists(data_dir):\n",
    "    os.makedirs(data_dir)"
   ]
  },
  {
   "cell_type": "code",
   "execution_count": 5,
   "metadata": {},
   "outputs": [],
   "source": [
    "prep_data(data_dir, parser, cleaning_doc=deep_cleaning)"
   ]
  }
 ],
 "metadata": {
  "kernelspec": {
   "display_name": "Python 3",
   "language": "python",
   "name": "python3"
  },
  "language_info": {
   "codemirror_mode": {
    "name": "ipython",
    "version": 3
   },
   "file_extension": ".py",
   "mimetype": "text/x-python",
   "name": "python",
   "nbconvert_exporter": "python",
   "pygments_lexer": "ipython3",
   "version": "3.6.4"
  }
 },
 "nbformat": 4,
 "nbformat_minor": 2
}
